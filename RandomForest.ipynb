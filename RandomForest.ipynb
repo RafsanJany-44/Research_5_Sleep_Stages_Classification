{
  "cells": [
    {
      "cell_type": "code",
      "execution_count": 1,
      "metadata": {
        "colab": {
          "base_uri": "https://localhost:8080/"
        },
        "id": "7ubUZAYxGokB",
        "outputId": "d45a1198-ed80-43b7-9446-03984e551291"
      },
      "outputs": [
        {
          "name": "stdout",
          "output_type": "stream",
          "text": [
            "/bin/bash: nvidia-smi: command not found\n"
          ]
        }
      ],
      "source": [
        "gpu_info = !nvidia-smi\n",
        "gpu_info = '\\n'.join(gpu_info)\n",
        "if gpu_info.find('failed') >= 0:\n",
        "  print('Not connected to a GPU')\n",
        "else:\n",
        "  print(gpu_info)"
      ]
    },
    {
      "cell_type": "code",
      "execution_count": 2,
      "metadata": {
        "colab": {
          "base_uri": "https://localhost:8080/"
        },
        "id": "lHNWFM3uGrVV",
        "outputId": "e1e1476e-18de-48b1-8a7a-4231b21f2c62"
      },
      "outputs": [
        {
          "name": "stdout",
          "output_type": "stream",
          "text": [
            "Your runtime has 8.6 gigabytes of available RAM\n",
            "\n",
            "Not using a high-RAM runtime\n"
          ]
        }
      ],
      "source": [
        "from psutil import virtual_memory\n",
        "ram_gb = virtual_memory().total / 1e9\n",
        "print('Your runtime has {:.1f} gigabytes of available RAM\\n'.format(ram_gb))\n",
        "\n",
        "if ram_gb < 20:\n",
        "  print('Not using a high-RAM runtime')\n",
        "else:\n",
        "  print('You are using a high-RAM runtime!')"
      ]
    },
    {
      "cell_type": "code",
      "execution_count": 3,
      "metadata": {
        "colab": {
          "base_uri": "https://localhost:8080/"
        },
        "id": "InfbA3MSGtHq",
        "outputId": "7967c68a-26f2-4049-a921-0b7afbc74849"
      },
      "outputs": [
        {
          "name": "stdout",
          "output_type": "stream",
          "text": [
            "Requirement already satisfied: imbalanced-learn in /opt/anaconda3/lib/python3.7/site-packages (0.9.0)\n",
            "Requirement already satisfied: threadpoolctl>=2.0.0 in /opt/anaconda3/lib/python3.7/site-packages (from imbalanced-learn) (2.2.0)\n",
            "Requirement already satisfied: scikit-learn>=1.0.1 in /opt/anaconda3/lib/python3.7/site-packages (from imbalanced-learn) (1.0.2)\n",
            "Requirement already satisfied: numpy>=1.14.6 in /opt/anaconda3/lib/python3.7/site-packages (from imbalanced-learn) (1.21.5)\n",
            "Requirement already satisfied: scipy>=1.1.0 in /opt/anaconda3/lib/python3.7/site-packages (from imbalanced-learn) (1.7.3)\n",
            "Requirement already satisfied: joblib>=0.11 in /opt/anaconda3/lib/python3.7/site-packages (from imbalanced-learn) (1.1.0)\n"
          ]
        }
      ],
      "source": [
        "!pip install imbalanced-learn\n",
        "\n",
        "from imblearn.over_sampling import SMOTE\n",
        "\n",
        "def balance(X_temp, y_temp):\n",
        "  smote = SMOTE()\n",
        "  X_temp, y_temp= smote.fit_resample(X_temp, y_temp)\n",
        "\n",
        "  return pd.concat([pd.DataFrame(X_temp), pd.DataFrame(y_temp)], axis=1)"
      ]
    },
    {
      "cell_type": "code",
      "execution_count": 4,
      "metadata": {
        "id": "0yDBIFU7Gu-y"
      },
      "outputs": [],
      "source": [
        "from joblib import Parallel, delayed\n",
        "import joblib\n",
        "  \n",
        "\n",
        "def save_model(model,model_name):\n",
        "  joblib.dump(model, model_name)\n",
        "  \n",
        "def load_model(model_name):\n",
        "  return joblib.load(model_name)"
      ]
    },
    {
      "cell_type": "code",
      "execution_count": 5,
      "metadata": {
        "colab": {
          "base_uri": "https://localhost:8080/"
        },
        "id": "TVEc9XOlGwgO",
        "outputId": "963ee9f2-026a-48bc-b5ea-8c5a1442e6fc"
      },
      "outputs": [
        {
          "data": {
            "text/plain": [
              "{'N1', 'N2', 'N3', 'R', 'W'}"
            ]
          },
          "execution_count": 5,
          "metadata": {},
          "output_type": "execute_result"
        }
      ],
      "source": [
        "import numpy as np\n",
        "import pandas as pd\n",
        "from tqdm import tqdm\n",
        "\n",
        "dataset=pd.read_csv(\"https://raw.githubusercontent.com/RafsanJany-44/Research_5_Stages_Sleep_Classification_HMC/main/DATA/EEG_Five_Stages_HMC.csv\")\n",
        "\n",
        "\n",
        "target=\"Sleep_Stage\"\n",
        "\n",
        "classes = np.array(sorted(list(set(dataset[target]))))\n",
        "\n",
        "set(list(dataset[target]))"
      ]
    },
    {
      "cell_type": "code",
      "execution_count": 7,
      "metadata": {
        "colab": {
          "base_uri": "https://localhost:8080/"
        },
        "id": "gI-bp5M-HrGi",
        "outputId": "2a9f92a8-6130-45f5-f12c-65a58a0d074b"
      },
      "outputs": [
        {
          "name": "stdout",
          "output_type": "stream",
          "text": [
            "N2    39428\n",
            "N3    21290\n",
            "W     19355\n",
            "R     16465\n",
            "N1    11913\n",
            "Name: Sleep_Stage, dtype: int64\n"
          ]
        }
      ],
      "source": [
        "frequency = dataset[\"Sleep_Stage\"].value_counts()\n",
        "print(frequency)"
      ]
    },
    {
      "cell_type": "code",
      "execution_count": 8,
      "metadata": {
        "id": "cPMVI3kwHo2o"
      },
      "outputs": [],
      "source": [
        "\n",
        "from sklearn.preprocessing import LabelEncoder\n",
        "encoder=LabelEncoder()\n",
        "dataset[target]=encoder.fit_transform(dataset[target])"
      ]
    },
    {
      "cell_type": "code",
      "execution_count": 9,
      "metadata": {
        "colab": {
          "base_uri": "https://localhost:8080/"
        },
        "id": "GOuAJaGbGyUF",
        "outputId": "5b9c89e0-4378-4f18-e567-c14d222231ff"
      },
      "outputs": [
        {
          "data": {
            "text/plain": [
              "{0, 1, 2, 3, 4}"
            ]
          },
          "execution_count": 9,
          "metadata": {},
          "output_type": "execute_result"
        }
      ],
      "source": [
        "set(list(dataset[target])) # alphabet wise"
      ]
    },
    {
      "cell_type": "code",
      "execution_count": 10,
      "metadata": {
        "colab": {
          "base_uri": "https://localhost:8080/"
        },
        "id": "5SEVx40PG8_a",
        "outputId": "95f7fb8c-6ffd-4798-ae6d-b7304672ea0d"
      },
      "outputs": [
        {
          "name": "stdout",
          "output_type": "stream",
          "text": [
            "1    31537\n",
            "2    17036\n",
            "4    15551\n",
            "3    13091\n",
            "0     9545\n",
            "Name: Sleep_Stage, dtype: int64\n"
          ]
        }
      ],
      "source": [
        "X = dataset.loc[:, dataset.columns!=target]\n",
        "y = dataset[target]\n",
        "\n",
        "from sklearn.model_selection import train_test_split\n",
        "X_train,X_test,y_train,y_test = train_test_split(X,y,test_size=0.2,random_state=0)\n",
        "\n",
        "frequency = y_train.value_counts()\n",
        "print(frequency)"
      ]
    },
    {
      "cell_type": "code",
      "execution_count": 11,
      "metadata": {
        "colab": {
          "base_uri": "https://localhost:8080/"
        },
        "id": "rs4OxR7QHGtK",
        "outputId": "48250fe5-7132-4a44-f1ae-cb733b20a2d5"
      },
      "outputs": [
        {
          "name": "stdout",
          "output_type": "stream",
          "text": [
            "0    31537\n",
            "3    31537\n",
            "2    31537\n",
            "1    31537\n",
            "4    31537\n",
            "Name: Sleep_Stage, dtype: int64\n"
          ]
        }
      ],
      "source": [
        "new_dataset=balance(X_train,y_train)\n",
        "\n",
        "X_train = new_dataset.loc[:, new_dataset.columns!=target]\n",
        "y_train = new_dataset[target]\n",
        "\n",
        "frequency = y_train.value_counts()\n",
        "print(frequency)"
      ]
    },
    {
      "cell_type": "code",
      "execution_count": 12,
      "metadata": {
        "colab": {
          "base_uri": "https://localhost:8080/"
        },
        "id": "EUXW3RQ9IZSU",
        "outputId": "4c48e5d2-b494-4580-ff77-0ace365a55fc"
      },
      "outputs": [
        {
          "name": "stdout",
          "output_type": "stream",
          "text": [
            "0.7898667650177493\n"
          ]
        }
      ],
      "source": [
        "from sklearn.ensemble import RandomForestClassifier\n",
        "from sklearn.metrics import accuracy_score\n",
        "\n",
        "classifier = RandomForestClassifier(n_estimators=5000,max_depth=49,random_state=0)\n",
        "classifier.fit(X_train, y_train)\n",
        "y_pred=classifier.predict(X_test)\n",
        "print(accuracy_score(y_test,y_pred))\n",
        "#save_model(classifier,str(classifier))\n"
      ]
    },
    {
      "cell_type": "code",
      "execution_count": 13,
      "metadata": {},
      "outputs": [],
      "source": [
        "save_model(classifier,str(classifier))"
      ]
    }
  ],
  "metadata": {
    "accelerator": "GPU",
    "colab": {
      "provenance": []
    },
    "gpuClass": "standard",
    "kernelspec": {
      "display_name": "Python 3.7.4 ('base')",
      "language": "python",
      "name": "python3"
    },
    "language_info": {
      "codemirror_mode": {
        "name": "ipython",
        "version": 3
      },
      "file_extension": ".py",
      "mimetype": "text/x-python",
      "name": "python",
      "nbconvert_exporter": "python",
      "pygments_lexer": "ipython3",
      "version": "3.7.4"
    },
    "vscode": {
      "interpreter": {
        "hash": "40d3a090f54c6569ab1632332b64b2c03c39dcf918b08424e98f38b5ae0af88f"
      }
    }
  },
  "nbformat": 4,
  "nbformat_minor": 0
}
