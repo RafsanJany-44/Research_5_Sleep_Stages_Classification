{
  "cells": [
    {
      "cell_type": "code",
      "execution_count": 1,
      "metadata": {
        "colab": {
          "base_uri": "https://localhost:8080/"
        },
        "id": "PQsMMwfPZT7C",
        "outputId": "dfba7122-aaf5-4719-8916-d075adde6a82"
      },
      "outputs": [
        {
          "name": "stdout",
          "output_type": "stream",
          "text": [
            "Your runtime has 8.6 gigabytes of available RAM\n",
            "\n"
          ]
        }
      ],
      "source": [
        "from psutil import virtual_memory\n",
        "ram_gb = virtual_memory().total / 1e9\n",
        "print('Your runtime has {:.1f} gigabytes of available RAM\\n'.format(ram_gb))"
      ]
    },
    {
      "cell_type": "code",
      "execution_count": 2,
      "metadata": {
        "colab": {
          "base_uri": "https://localhost:8080/"
        },
        "id": "OXzL5sHbZUZU",
        "outputId": "9c0c1062-d4ac-4b3c-c308-1a34479d6e22"
      },
      "outputs": [
        {
          "name": "stdout",
          "output_type": "stream",
          "text": [
            "Requirement already satisfied: imbalanced-learn in /opt/anaconda3/lib/python3.7/site-packages (0.9.0)\n",
            "Requirement already satisfied: scipy>=1.1.0 in /opt/anaconda3/lib/python3.7/site-packages (from imbalanced-learn) (1.7.3)\n",
            "Requirement already satisfied: joblib>=0.11 in /opt/anaconda3/lib/python3.7/site-packages (from imbalanced-learn) (1.1.0)\n",
            "Requirement already satisfied: scikit-learn>=1.0.1 in /opt/anaconda3/lib/python3.7/site-packages (from imbalanced-learn) (1.0.2)\n",
            "Requirement already satisfied: numpy>=1.14.6 in /opt/anaconda3/lib/python3.7/site-packages (from imbalanced-learn) (1.21.5)\n",
            "Requirement already satisfied: threadpoolctl>=2.0.0 in /opt/anaconda3/lib/python3.7/site-packages (from imbalanced-learn) (2.2.0)\n"
          ]
        }
      ],
      "source": [
        "!pip install imbalanced-learn\n",
        "\n",
        "from imblearn.over_sampling import SMOTE\n",
        "\n",
        "def balance(X_temp, y_temp):\n",
        "  smote = SMOTE()\n",
        "  X_temp, y_temp= smote.fit_resample(X_temp, y_temp)\n",
        "  return pd.concat([pd.DataFrame(X_temp), pd.DataFrame(y_temp)], axis=1)"
      ]
    },
    {
      "cell_type": "code",
      "execution_count": 3,
      "metadata": {
        "id": "sP83RtE6ZWR5"
      },
      "outputs": [],
      "source": [
        "from joblib import Parallel, delayed\n",
        "import joblib\n",
        "  \n",
        "\n",
        "def save_model(model,model_name):\n",
        " joblib.dump(model, model_name)\n",
        "  \n",
        "def load_model(model_name):\n",
        "  return joblib.load(model_name)"
      ]
    },
    {
      "cell_type": "code",
      "execution_count": 4,
      "metadata": {
        "id": "mq4cMTb7ZYUF"
      },
      "outputs": [],
      "source": [
        "import numpy as np\n",
        "import pandas as pd\n",
        "from tqdm import tqdm\n",
        "\n",
        "dataset=pd.read_csv(\"https://raw.githubusercontent.com/RafsanJany-44/Research_5_Sleep_Stages_Classification/main/DATA/EEG_Five_Stages_HMC.csv\")\n",
        "\n",
        "\n",
        "target=\"Sleep_Stage\"\n",
        "\n",
        "classes = np.array(sorted(list(set(dataset[target]))))"
      ]
    },
    {
      "cell_type": "code",
      "execution_count": 5,
      "metadata": {
        "colab": {
          "base_uri": "https://localhost:8080/",
          "height": 317
        },
        "id": "CZ0oQ8JfZaah",
        "outputId": "9c722e88-f1b1-4314-ff5d-956ffdf14fb1"
      },
      "outputs": [
        {
          "data": {
            "text/html": [
              "<div>\n",
              "<style scoped>\n",
              "    .dataframe tbody tr th:only-of-type {\n",
              "        vertical-align: middle;\n",
              "    }\n",
              "\n",
              "    .dataframe tbody tr th {\n",
              "        vertical-align: top;\n",
              "    }\n",
              "\n",
              "    .dataframe thead th {\n",
              "        text-align: right;\n",
              "    }\n",
              "</style>\n",
              "<table border=\"1\" class=\"dataframe\">\n",
              "  <thead>\n",
              "    <tr style=\"text-align: right;\">\n",
              "      <th></th>\n",
              "      <th>Sleep_Stage</th>\n",
              "      <th>MeanP_Alpha_F4</th>\n",
              "      <th>MedianF_Alpha_F4</th>\n",
              "      <th>MeanF_Alpha_F4</th>\n",
              "      <th>Spectral Edge_Alpha_F4</th>\n",
              "      <th>PeakF_Alpha_F4</th>\n",
              "      <th>MeanP_Beta_F4</th>\n",
              "      <th>MedianF_Beta_F4</th>\n",
              "      <th>MeanF_Beta_F4</th>\n",
              "      <th>Spectral Edge_Beta_F4</th>\n",
              "      <th>...</th>\n",
              "      <th>MeanP_Delta_O2</th>\n",
              "      <th>MedianF_Delta_O2</th>\n",
              "      <th>MeanF_Delta_O2</th>\n",
              "      <th>Spectral Edge_Delta_O2</th>\n",
              "      <th>PeakF_Delta_O2</th>\n",
              "      <th>MeanP_Gamma_O2</th>\n",
              "      <th>MedianF_Gamma_O2</th>\n",
              "      <th>MeanF_Gamma_O2</th>\n",
              "      <th>Spectral Edge_Gamma_O2</th>\n",
              "      <th>PeakF_Gamma_O2</th>\n",
              "    </tr>\n",
              "  </thead>\n",
              "  <tbody>\n",
              "    <tr>\n",
              "      <th>0</th>\n",
              "      <td>W</td>\n",
              "      <td>0.00051</td>\n",
              "      <td>8.74146</td>\n",
              "      <td>18.48195</td>\n",
              "      <td>17.48293</td>\n",
              "      <td>8.24195</td>\n",
              "      <td>0.00071</td>\n",
              "      <td>19.73073</td>\n",
              "      <td>29.84585</td>\n",
              "      <td>33.84195</td>\n",
              "      <td>...</td>\n",
              "      <td>0.00724</td>\n",
              "      <td>0.74927</td>\n",
              "      <td>3.87122</td>\n",
              "      <td>1.99805</td>\n",
              "      <td>0.87415</td>\n",
              "      <td>0.000210</td>\n",
              "      <td>35.21561</td>\n",
              "      <td>42.20878</td>\n",
              "      <td>49.95122</td>\n",
              "      <td>49.95122</td>\n",
              "    </tr>\n",
              "    <tr>\n",
              "      <th>1</th>\n",
              "      <td>W</td>\n",
              "      <td>0.00040</td>\n",
              "      <td>10.24000</td>\n",
              "      <td>17.48293</td>\n",
              "      <td>16.85854</td>\n",
              "      <td>10.61463</td>\n",
              "      <td>0.00051</td>\n",
              "      <td>17.23317</td>\n",
              "      <td>26.34927</td>\n",
              "      <td>29.34634</td>\n",
              "      <td>...</td>\n",
              "      <td>0.00723</td>\n",
              "      <td>0.49951</td>\n",
              "      <td>3.74634</td>\n",
              "      <td>1.24878</td>\n",
              "      <td>0.49951</td>\n",
              "      <td>0.000095</td>\n",
              "      <td>34.34146</td>\n",
              "      <td>43.33268</td>\n",
              "      <td>49.95122</td>\n",
              "      <td>49.95122</td>\n",
              "    </tr>\n",
              "    <tr>\n",
              "      <th>2</th>\n",
              "      <td>W</td>\n",
              "      <td>0.00036</td>\n",
              "      <td>9.74049</td>\n",
              "      <td>17.98244</td>\n",
              "      <td>17.48293</td>\n",
              "      <td>8.74146</td>\n",
              "      <td>0.00047</td>\n",
              "      <td>17.60780</td>\n",
              "      <td>25.47512</td>\n",
              "      <td>28.22244</td>\n",
              "      <td>...</td>\n",
              "      <td>0.00230</td>\n",
              "      <td>0.62439</td>\n",
              "      <td>5.24488</td>\n",
              "      <td>2.12293</td>\n",
              "      <td>0.62439</td>\n",
              "      <td>0.000074</td>\n",
              "      <td>34.59122</td>\n",
              "      <td>45.95512</td>\n",
              "      <td>49.95122</td>\n",
              "      <td>49.95122</td>\n",
              "    </tr>\n",
              "    <tr>\n",
              "      <th>3</th>\n",
              "      <td>W</td>\n",
              "      <td>0.00035</td>\n",
              "      <td>10.11512</td>\n",
              "      <td>17.60780</td>\n",
              "      <td>17.10829</td>\n",
              "      <td>9.61561</td>\n",
              "      <td>0.00047</td>\n",
              "      <td>17.35805</td>\n",
              "      <td>26.47415</td>\n",
              "      <td>28.72195</td>\n",
              "      <td>...</td>\n",
              "      <td>0.00091</td>\n",
              "      <td>0.87415</td>\n",
              "      <td>6.61854</td>\n",
              "      <td>3.12195</td>\n",
              "      <td>0.62439</td>\n",
              "      <td>0.000082</td>\n",
              "      <td>32.46829</td>\n",
              "      <td>43.95707</td>\n",
              "      <td>49.95122</td>\n",
              "      <td>49.95122</td>\n",
              "    </tr>\n",
              "    <tr>\n",
              "      <th>4</th>\n",
              "      <td>W</td>\n",
              "      <td>0.00033</td>\n",
              "      <td>9.74049</td>\n",
              "      <td>17.60780</td>\n",
              "      <td>17.23317</td>\n",
              "      <td>8.11707</td>\n",
              "      <td>0.00043</td>\n",
              "      <td>17.23317</td>\n",
              "      <td>25.84976</td>\n",
              "      <td>28.09756</td>\n",
              "      <td>...</td>\n",
              "      <td>0.00175</td>\n",
              "      <td>0.49951</td>\n",
              "      <td>5.74439</td>\n",
              "      <td>2.24780</td>\n",
              "      <td>0.49951</td>\n",
              "      <td>0.000077</td>\n",
              "      <td>33.59220</td>\n",
              "      <td>44.83122</td>\n",
              "      <td>49.95122</td>\n",
              "      <td>49.95122</td>\n",
              "    </tr>\n",
              "  </tbody>\n",
              "</table>\n",
              "<p>5 rows × 76 columns</p>\n",
              "</div>"
            ],
            "text/plain": [
              "  Sleep_Stage  MeanP_Alpha_F4  MedianF_Alpha_F4  MeanF_Alpha_F4  \\\n",
              "0           W         0.00051           8.74146        18.48195   \n",
              "1           W         0.00040          10.24000        17.48293   \n",
              "2           W         0.00036           9.74049        17.98244   \n",
              "3           W         0.00035          10.11512        17.60780   \n",
              "4           W         0.00033           9.74049        17.60780   \n",
              "\n",
              "   Spectral Edge_Alpha_F4  PeakF_Alpha_F4  MeanP_Beta_F4  MedianF_Beta_F4  \\\n",
              "0                17.48293         8.24195        0.00071         19.73073   \n",
              "1                16.85854        10.61463        0.00051         17.23317   \n",
              "2                17.48293         8.74146        0.00047         17.60780   \n",
              "3                17.10829         9.61561        0.00047         17.35805   \n",
              "4                17.23317         8.11707        0.00043         17.23317   \n",
              "\n",
              "   MeanF_Beta_F4  Spectral Edge_Beta_F4  ...  MeanP_Delta_O2  \\\n",
              "0       29.84585               33.84195  ...         0.00724   \n",
              "1       26.34927               29.34634  ...         0.00723   \n",
              "2       25.47512               28.22244  ...         0.00230   \n",
              "3       26.47415               28.72195  ...         0.00091   \n",
              "4       25.84976               28.09756  ...         0.00175   \n",
              "\n",
              "   MedianF_Delta_O2  MeanF_Delta_O2  Spectral Edge_Delta_O2  PeakF_Delta_O2  \\\n",
              "0           0.74927         3.87122                 1.99805         0.87415   \n",
              "1           0.49951         3.74634                 1.24878         0.49951   \n",
              "2           0.62439         5.24488                 2.12293         0.62439   \n",
              "3           0.87415         6.61854                 3.12195         0.62439   \n",
              "4           0.49951         5.74439                 2.24780         0.49951   \n",
              "\n",
              "   MeanP_Gamma_O2  MedianF_Gamma_O2  MeanF_Gamma_O2  Spectral Edge_Gamma_O2  \\\n",
              "0        0.000210          35.21561        42.20878                49.95122   \n",
              "1        0.000095          34.34146        43.33268                49.95122   \n",
              "2        0.000074          34.59122        45.95512                49.95122   \n",
              "3        0.000082          32.46829        43.95707                49.95122   \n",
              "4        0.000077          33.59220        44.83122                49.95122   \n",
              "\n",
              "   PeakF_Gamma_O2  \n",
              "0        49.95122  \n",
              "1        49.95122  \n",
              "2        49.95122  \n",
              "3        49.95122  \n",
              "4        49.95122  \n",
              "\n",
              "[5 rows x 76 columns]"
            ]
          },
          "execution_count": 5,
          "metadata": {},
          "output_type": "execute_result"
        }
      ],
      "source": [
        "dataset.head()"
      ]
    },
    {
      "cell_type": "code",
      "execution_count": 6,
      "metadata": {
        "colab": {
          "base_uri": "https://localhost:8080/"
        },
        "id": "ztQLegNzZcYQ",
        "outputId": "c7761c41-00a4-4b69-db63-dd4147e0da4f"
      },
      "outputs": [
        {
          "name": "stdout",
          "output_type": "stream",
          "text": [
            "<class 'pandas.core.frame.DataFrame'>\n",
            "RangeIndex: 108451 entries, 0 to 108450\n",
            "Data columns (total 76 columns):\n",
            " #   Column                  Non-Null Count   Dtype  \n",
            "---  ------                  --------------   -----  \n",
            " 0   Sleep_Stage             108451 non-null  object \n",
            " 1   MeanP_Alpha_F4          108451 non-null  float64\n",
            " 2   MedianF_Alpha_F4        108451 non-null  float64\n",
            " 3   MeanF_Alpha_F4          108451 non-null  float64\n",
            " 4   Spectral Edge_Alpha_F4  108451 non-null  float64\n",
            " 5   PeakF_Alpha_F4          108451 non-null  float64\n",
            " 6   MeanP_Beta_F4           108451 non-null  float64\n",
            " 7   MedianF_Beta_F4         108451 non-null  float64\n",
            " 8   MeanF_Beta_F4           108451 non-null  float64\n",
            " 9   Spectral Edge_Beta_F4   108451 non-null  float64\n",
            " 10  PeakF_Beta_F4           108451 non-null  float64\n",
            " 11  MeanP_Theta_F4          108451 non-null  float64\n",
            " 12  MedianF_Theta_F4        108451 non-null  float64\n",
            " 13  MeanF_Theta_F4          108451 non-null  float64\n",
            " 14  Spectral Edge_Theta_F4  108451 non-null  float64\n",
            " 15  PeakF_Theta_F4          108451 non-null  float64\n",
            " 16  MeanP_Delta_F4          108451 non-null  float64\n",
            " 17  MedianF_Delta_F4        108451 non-null  float64\n",
            " 18  MeanF_Delta_F4          108451 non-null  float64\n",
            " 19  Spectral Edge_Delta_F4  108451 non-null  float64\n",
            " 20  PeakF_Delta_F4          108451 non-null  float64\n",
            " 21  MeanP_Gamma_F4          108451 non-null  float64\n",
            " 22  MedianF_Gamma_F4        108451 non-null  float64\n",
            " 23  MeanF_Gamma_F4          108451 non-null  float64\n",
            " 24  Spectral Edge_Gamma_F4  108451 non-null  float64\n",
            " 25  PeakF_Gamma_F4          108451 non-null  float64\n",
            " 26  MeanP_Alpha_C4          108451 non-null  float64\n",
            " 27  MedianF_Alpha_C4        108451 non-null  float64\n",
            " 28  MeanF_Alpha_C4          108451 non-null  float64\n",
            " 29  Spectral Edge_Alpha_C4  108451 non-null  float64\n",
            " 30  PeakF_Alpha_C4          108451 non-null  float64\n",
            " 31  MeanP_Beta_C4           108451 non-null  float64\n",
            " 32  MedianF_Beta_C4         108451 non-null  float64\n",
            " 33  MeanF_Beta_C4           108451 non-null  float64\n",
            " 34  Spectral Edge_Beta_C4   108451 non-null  float64\n",
            " 35  PeakF_Beta_C4           108451 non-null  float64\n",
            " 36  MeanP_Theta_C4          108451 non-null  float64\n",
            " 37  MedianF_Theta_C4        108451 non-null  float64\n",
            " 38  MeanF_Theta_C4          108451 non-null  float64\n",
            " 39  Spectral Edge_Theta_C4  108451 non-null  float64\n",
            " 40  PeakF_Theta_C4          108451 non-null  float64\n",
            " 41  MeanP_Delta_C4          108451 non-null  float64\n",
            " 42  MedianF_Delta_C4        108451 non-null  float64\n",
            " 43  MeanF_Delta_C4          108451 non-null  float64\n",
            " 44  Spectral Edge_Delta_C4  108451 non-null  float64\n",
            " 45  PeakF_Delta_C4          108451 non-null  float64\n",
            " 46  MeanP_Gamma_C4          108451 non-null  float64\n",
            " 47  MedianF_Gamma_C4        108451 non-null  float64\n",
            " 48  MeanF_Gamma_C4          108451 non-null  float64\n",
            " 49  Spectral Edge_Gamma_C4  108451 non-null  float64\n",
            " 50  PeakF_Gamma_C4          108451 non-null  float64\n",
            " 51  MeanP_Alpha_O2          108451 non-null  float64\n",
            " 52  MedianF_Alpha_O2        108451 non-null  float64\n",
            " 53  MeanF_Alpha_O2          108451 non-null  float64\n",
            " 54  Spectral Edge_Alpha_O2  108451 non-null  float64\n",
            " 55  PeakF_Alpha_O2          108451 non-null  float64\n",
            " 56  MeanP_Beta_O2           108451 non-null  float64\n",
            " 57  MedianF_Beta_O2         108451 non-null  float64\n",
            " 58  MeanF_Beta_O2           108451 non-null  float64\n",
            " 59  Spectral Edge_Beta_O2   108451 non-null  float64\n",
            " 60  PeakF_Beta_O2           108451 non-null  float64\n",
            " 61  MeanP_Theta_O2          108451 non-null  float64\n",
            " 62  MedianF_Theta_O2        108451 non-null  float64\n",
            " 63  MeanF_Theta_O2          108451 non-null  float64\n",
            " 64  Spectral Edge_Theta_O2  108451 non-null  float64\n",
            " 65  PeakF_Theta_O2          108451 non-null  float64\n",
            " 66  MeanP_Delta_O2          108451 non-null  float64\n",
            " 67  MedianF_Delta_O2        108451 non-null  float64\n",
            " 68  MeanF_Delta_O2          108451 non-null  float64\n",
            " 69  Spectral Edge_Delta_O2  108451 non-null  float64\n",
            " 70  PeakF_Delta_O2          108451 non-null  float64\n",
            " 71  MeanP_Gamma_O2          108451 non-null  float64\n",
            " 72  MedianF_Gamma_O2        108451 non-null  float64\n",
            " 73  MeanF_Gamma_O2          108451 non-null  float64\n",
            " 74  Spectral Edge_Gamma_O2  108451 non-null  float64\n",
            " 75  PeakF_Gamma_O2          108451 non-null  float64\n",
            "dtypes: float64(75), object(1)\n",
            "memory usage: 62.9+ MB\n"
          ]
        }
      ],
      "source": [
        "dataset.info()"
      ]
    },
    {
      "cell_type": "code",
      "execution_count": 7,
      "metadata": {
        "colab": {
          "base_uri": "https://localhost:8080/"
        },
        "id": "usDDfQkoZeGS",
        "outputId": "fad3ff66-ca2a-48bf-9dfc-563c0a548915"
      },
      "outputs": [
        {
          "data": {
            "text/plain": [
              "{'N1', 'N2', 'N3', 'R', 'W'}"
            ]
          },
          "execution_count": 7,
          "metadata": {},
          "output_type": "execute_result"
        }
      ],
      "source": [
        "set(list(dataset[target]))"
      ]
    },
    {
      "cell_type": "code",
      "execution_count": 8,
      "metadata": {
        "colab": {
          "base_uri": "https://localhost:8080/"
        },
        "id": "fsut8NgRZgr2",
        "outputId": "77225ec0-7c31-4fc7-cd39-1e74ce923b29"
      },
      "outputs": [
        {
          "name": "stdout",
          "output_type": "stream",
          "text": [
            "N2    39428\n",
            "N3    21290\n",
            "W     19355\n",
            "R     16465\n",
            "N1    11913\n",
            "Name: Sleep_Stage, dtype: int64\n"
          ]
        }
      ],
      "source": [
        "frequency = dataset[\"Sleep_Stage\"].value_counts()\n",
        "print(frequency)"
      ]
    },
    {
      "cell_type": "code",
      "execution_count": 9,
      "metadata": {
        "id": "Q4me82ahZijp"
      },
      "outputs": [],
      "source": [
        "from sklearn.preprocessing import LabelEncoder\n",
        "encoder=LabelEncoder()\n",
        "dataset[target]=encoder.fit_transform(dataset[target])"
      ]
    },
    {
      "cell_type": "code",
      "execution_count": 10,
      "metadata": {
        "colab": {
          "base_uri": "https://localhost:8080/"
        },
        "id": "WDQG4CGpZkrd",
        "outputId": "3a35839e-cfa3-4dcd-a737-0258a6001332"
      },
      "outputs": [
        {
          "data": {
            "text/plain": [
              "{0, 1, 2, 3, 4}"
            ]
          },
          "execution_count": 10,
          "metadata": {},
          "output_type": "execute_result"
        }
      ],
      "source": [
        "set(list(dataset[target])) # alphabet wise"
      ]
    },
    {
      "cell_type": "code",
      "execution_count": 11,
      "metadata": {
        "colab": {
          "base_uri": "https://localhost:8080/"
        },
        "id": "h_Ff2UlKZm1q",
        "outputId": "7197ea52-a638-4663-e12b-31a17b0a043d"
      },
      "outputs": [
        {
          "name": "stdout",
          "output_type": "stream",
          "text": [
            "1    39428\n",
            "2    21290\n",
            "4    19355\n",
            "3    16465\n",
            "0    11913\n",
            "Name: Sleep_Stage, dtype: int64\n"
          ]
        }
      ],
      "source": [
        "frequency = dataset[\"Sleep_Stage\"].value_counts()\n",
        "print(frequency)"
      ]
    },
    {
      "cell_type": "code",
      "execution_count": 12,
      "metadata": {
        "id": "34rx04bzZou9"
      },
      "outputs": [],
      "source": [
        "X = dataset.loc[:, dataset.columns!=target]\n",
        "y = dataset[target]"
      ]
    },
    {
      "cell_type": "code",
      "execution_count": 13,
      "metadata": {
        "id": "7qkhS4XKZqkO"
      },
      "outputs": [],
      "source": [
        "from sklearn.model_selection import train_test_split\n",
        "X_train,X_test,y_train,y_test = train_test_split(X,y,test_size=0.2,random_state=0)\n"
      ]
    },
    {
      "cell_type": "code",
      "execution_count": 14,
      "metadata": {
        "colab": {
          "base_uri": "https://localhost:8080/"
        },
        "id": "yKztKzKR7f0c",
        "outputId": "cdc8de1d-1960-471b-f240-f81a2ac92d88"
      },
      "outputs": [
        {
          "name": "stdout",
          "output_type": "stream",
          "text": [
            "1    31537\n",
            "2    17036\n",
            "4    15551\n",
            "3    13091\n",
            "0     9545\n",
            "Name: Sleep_Stage, dtype: int64\n"
          ]
        }
      ],
      "source": [
        "frequency = y_train.value_counts()\n",
        "print(frequency)"
      ]
    },
    {
      "cell_type": "code",
      "execution_count": 15,
      "metadata": {
        "id": "TYw1CeuaZwl5"
      },
      "outputs": [],
      "source": [
        "new_dataset=balance(X_train,y_train)\n",
        "\n",
        "X_train = new_dataset.loc[:, new_dataset.columns!=target]\n",
        "y_train = new_dataset[target]"
      ]
    },
    {
      "cell_type": "code",
      "execution_count": 16,
      "metadata": {
        "colab": {
          "base_uri": "https://localhost:8080/"
        },
        "id": "szvcK_p17LKK",
        "outputId": "d23bd60d-14e8-4ace-9146-7a2bc1d7df42"
      },
      "outputs": [
        {
          "name": "stdout",
          "output_type": "stream",
          "text": [
            "0    31537\n",
            "3    31537\n",
            "2    31537\n",
            "1    31537\n",
            "4    31537\n",
            "Name: Sleep_Stage, dtype: int64\n"
          ]
        }
      ],
      "source": [
        "frequency = y_train.value_counts()\n",
        "print(frequency)"
      ]
    },
    {
      "cell_type": "markdown",
      "metadata": {
        "id": "RZthBZ9GBTJz"
      },
      "source": [
        "#Confusion Properties"
      ]
    },
    {
      "cell_type": "code",
      "execution_count": 17,
      "metadata": {
        "id": "9mexLQ7a7vaY"
      },
      "outputs": [],
      "source": [
        "def confusion_details(y_test,y_pred):\n",
        "    labels = list(set(y_test))\n",
        "    labels.sort()\n",
        "\n",
        "    print(\"Total labels: %s -> %s\" % (len(labels), labels))\n",
        "\n",
        "    df = pd.DataFrame(\n",
        "        data=confusion_matrix(y_test, y_pred, labels=labels),\n",
        "        columns=labels,\n",
        "        index=labels\n",
        "    )\n",
        "\n",
        "    print(df)\n",
        "\n",
        "    print()\n",
        "    print(\"----------------------------------------------------------------------------------------\")\n",
        "    print(\"----------------------------------------------------------------------------------------\")\n",
        "    print()\n",
        "    #\n",
        "    # Local (metrics per class)\n",
        "    #\n",
        "    tps = {}\n",
        "    fps = {}\n",
        "    fns = {}\n",
        "    tns = {}\n",
        "\n",
        "    precision_local = {}\n",
        "    recall_local = {}\n",
        "    f1_local = {}\n",
        "    accuracy_local = {}\n",
        "    specificity_local={}\n",
        "\n",
        "    for label in labels:\n",
        "        tps[label] = df.loc[label, label]\n",
        "        fps[label] = df[label].sum() - tps[label]\n",
        "        fns[label] = df.loc[label].sum() - tps[label]\n",
        "        tns[label]=len(y_test) - (tps[label] + fps[label] + fns[label])\n",
        "        \n",
        "        tp, fp, fn, tn = tps[label], fps[label], fns[label], tns[label]\n",
        "        \n",
        "        precision_local[label] = tp / (tp + fp) if (tp + fp) > 0. else 0.\n",
        "        specificity_local[label] = tn / (tn + fp) if (tn + fp) > 0. else 0.\n",
        "        recall_local[label] = tp / (tp + fn) if (tp + fp) > 0. else 0.\n",
        "        p, r = precision_local[label], recall_local[label]\n",
        "        \n",
        "        f1_local[label] = 2. * p * r / (p + r) if (p + r) > 0. else 0.\n",
        "        accuracy_local[label] = tp / (tp + fp + fn) if (tp + fp + fn) > 0. else 0.\n",
        "\n",
        "\n",
        "\n",
        "    print(\"#-- Local measures --#\")\n",
        "    print(\"True Positives(TP):\", tps)\n",
        "    print(\"False Positives(FP):\", fps)\n",
        "    print(\"True Negatives(TN):\", tns)\n",
        "    print(\"False Negatives(FN):\", fns)\n",
        "    print(\"----------------------------\")\n",
        "\n",
        "    print(\"Precision:\", precision_local)\n",
        "    print(\"Recall/Sensitivity:\", recall_local)\n",
        "    print(\"Specificity:\",specificity_local)\n",
        "    print(\"F1-Score:\", f1_local)\n",
        "    print(\"Accuracy:\", accuracy_local)\n",
        "\n",
        "\n",
        "    print()\n",
        "    print(\"----------------------------------------------------------------------------------------\")\n",
        "    print(\"----------------------------------------------------------------------------------------\")\n",
        "    print()\n",
        "    #\n",
        "    # Global\n",
        "    #\n",
        "    micro_averages = {}\n",
        "    macro_averages = {}\n",
        "\n",
        "    correct_predictions = sum(tps.values())\n",
        "    true_negative=sum(tns.values())\n",
        "\n",
        "    den = sum(list(tps.values()) + list(fps.values()))\n",
        "    micro_averages[\"Precision\"] = 1. * correct_predictions / den if den > 0. else 0.\n",
        "\n",
        "    den = sum(list(tps.values()) + list(fns.values()))\n",
        "    micro_averages[\"Recall\"] = 1. * correct_predictions / den if den > 0. else 0.\n",
        "\n",
        "    den = sum(list(tns.values()) + list(fps.values()))\n",
        "    micro_averages[\"Specificity\"] = 1. * true_negative / den if den > 0. else 0.\n",
        "\n",
        "\n",
        "    micro_avg_p, micro_avg_r = micro_averages[\"Precision\"], micro_averages[\"Recall\"]\n",
        "    micro_averages[\"F1-score\"] = 2. * micro_avg_p * micro_avg_r / (micro_avg_p + micro_avg_r) if (micro_avg_p + micro_avg_r) > 0. else 0.\n",
        "\n",
        "    macro_averages[\"Precision\"] = np.mean(list(precision_local.values()))\n",
        "    macro_averages[\"Recall\"] = np.mean(list(recall_local.values()))\n",
        "    macro_averages[\"Specificity\"]=np.mean(list(specificity_local.values()))\n",
        "\n",
        "\n",
        "    macro_avg_p, macro_avg_r = macro_averages[\"Precision\"], macro_averages[\"Recall\"]\n",
        "    macro_averages[\"F1-Score\"] = 2. * macro_avg_p * macro_avg_r / (macro_avg_p + macro_avg_r) if (macro_avg_p + macro_avg_r) > 0. else 0.\n",
        "\n",
        "    total_predictions = df.values.sum()\n",
        "    accuracy_global = correct_predictions / total_predictions if total_predictions > 0. else 0.\n",
        "\n",
        "    print(\"#-- Global measures --#\")\n",
        "    print(\"Micro-Averages:\", micro_averages)\n",
        "    print(\"Macro-Averages:\", macro_averages)\n",
        "    print(\"Correct predictions:\", correct_predictions)\n",
        "    print(\"Total predictions:\", total_predictions)\n",
        "    print(\"Accuracy:\", accuracy_global)\n",
        "\n",
        "\n",
        "    print()\n",
        "    print(\"----------------------------------------------------------------------------------------\")\n",
        "    print(\"----------------------------------------------------------------------------------------\")\n",
        "    print()\n",
        "\n",
        "\n",
        "\n",
        "    accuracy_local_new = {}\n",
        "    for label in labels:\n",
        "        tp, fp, fn, tn = tps[label], fps[label], fns[label], tns[label]\n",
        "        accuracy_local_new[label] = (tp + tn) / (tp + fp + fn + tn) if (tp + fp + fn + tn) > 0. else 0.\n",
        "\n",
        "    total_true = sum(list(tps.values()) + list(tns.values()))\n",
        "    total_predictions = sum(list(tps.values()) + list(tns.values()) + list(fps.values()) + list(fns.values()))\n",
        "    accuracy_global_new = 1. * total_true / total_predictions if total_predictions > 0. else 0.\n",
        "\n",
        "    print(\"Accuracy (per class), with TNs:\", accuracy_local_new)\n",
        "    print(\"Accuracy (per class), without TNs:\", accuracy_local)\n",
        "    print(\"Accuracy (global), with TNs:\", accuracy_global_new)\n",
        "    print(\"Accuracy (global), without TNs:\", accuracy_global)"
      ]
    },
    {
      "cell_type": "code",
      "execution_count": 19,
      "metadata": {},
      "outputs": [
        {
          "name": "stdout",
          "output_type": "stream",
          "text": [
            "Collecting seaborn\n",
            "  Downloading seaborn-0.12.1-py3-none-any.whl (288 kB)\n",
            "\u001b[K     |████████████████████████████████| 288 kB 369 kB/s eta 0:00:01\n",
            "\u001b[?25hRequirement already satisfied: numpy>=1.17 in /opt/anaconda3/lib/python3.7/site-packages (from seaborn) (1.21.5)\n",
            "Requirement already satisfied: pandas>=0.25 in /opt/anaconda3/lib/python3.7/site-packages (from seaborn) (1.3.5)\n",
            "Requirement already satisfied: typing_extensions in /opt/anaconda3/lib/python3.7/site-packages (from seaborn) (4.1.1)\n",
            "Requirement already satisfied: matplotlib!=3.6.1,>=3.1 in /opt/anaconda3/lib/python3.7/site-packages (from seaborn) (3.5.1)\n",
            "Requirement already satisfied: pyparsing>=2.2.1 in /opt/anaconda3/lib/python3.7/site-packages (from matplotlib!=3.6.1,>=3.1->seaborn) (3.0.4)\n",
            "Requirement already satisfied: pillow>=6.2.0 in /opt/anaconda3/lib/python3.7/site-packages (from matplotlib!=3.6.1,>=3.1->seaborn) (9.0.1)\n",
            "Requirement already satisfied: fonttools>=4.22.0 in /opt/anaconda3/lib/python3.7/site-packages (from matplotlib!=3.6.1,>=3.1->seaborn) (4.25.0)\n",
            "Requirement already satisfied: python-dateutil>=2.7 in /opt/anaconda3/lib/python3.7/site-packages (from matplotlib!=3.6.1,>=3.1->seaborn) (2.8.2)\n",
            "Requirement already satisfied: kiwisolver>=1.0.1 in /opt/anaconda3/lib/python3.7/site-packages (from matplotlib!=3.6.1,>=3.1->seaborn) (1.4.2)\n",
            "Requirement already satisfied: cycler>=0.10 in /opt/anaconda3/lib/python3.7/site-packages (from matplotlib!=3.6.1,>=3.1->seaborn) (0.11.0)\n",
            "Requirement already satisfied: packaging>=20.0 in /opt/anaconda3/lib/python3.7/site-packages (from matplotlib!=3.6.1,>=3.1->seaborn) (21.3)\n",
            "Requirement already satisfied: pytz>=2017.3 in /opt/anaconda3/lib/python3.7/site-packages (from pandas>=0.25->seaborn) (2022.1)\n",
            "Requirement already satisfied: six>=1.5 in /opt/anaconda3/lib/python3.7/site-packages (from python-dateutil>=2.7->matplotlib!=3.6.1,>=3.1->seaborn) (1.16.0)\n",
            "Installing collected packages: seaborn\n",
            "Successfully installed seaborn-0.12.1\n"
          ]
        }
      ],
      "source": [
        "!pip install seaborn"
      ]
    },
    {
      "cell_type": "code",
      "execution_count": 20,
      "metadata": {
        "id": "RocIPu2LCUIF"
      },
      "outputs": [],
      "source": [
        "import seaborn as sn\n",
        "import matplotlib.pyplot as plt\n",
        "from sklearn.metrics import classification_report, confusion_matrix, accuracy_score\n",
        "def Con_Mat(y_test,y_pred):\n",
        "  cm = confusion_matrix(y_test, y_pred)\n",
        "  plt.figure(figsize = (15,10))\n",
        "  sn.heatmap(cm, annot=True, fmt='d',linewidth=.5) # here, cm is called to be visualized\n",
        "  plt.xlabel('Predicted',fontsize=14.0, fontweight='bold')\n",
        "  plt.ylabel('Truth',fontsize=12.0, fontweight='bold')"
      ]
    },
    {
      "cell_type": "code",
      "execution_count": 21,
      "metadata": {
        "id": "3yUPF_qVB4sb"
      },
      "outputs": [],
      "source": [
        "from sklearn.metrics import classification_report, confusion_matrix, accuracy_score\n",
        "\n",
        "def Accurecy_Details(y_test,y_pred):    \n",
        "  print(confusion_matrix(y_test, y_pred))\n",
        "  print(classification_report(y_test,y_pred))\n",
        "  print(\"Accurecy: \",accuracy_score(y_test, y_pred))"
      ]
    },
    {
      "cell_type": "code",
      "execution_count": 20,
      "metadata": {
        "id": "u9UImYoaEXpe"
      },
      "outputs": [],
      "source": []
    },
    {
      "cell_type": "markdown",
      "metadata": {
        "id": "Df9-izY5FHdo"
      },
      "source": [
        "#XGBoost"
      ]
    },
    {
      "cell_type": "code",
      "execution_count": 22,
      "metadata": {
        "id": "3xxTLd7vFJmR"
      },
      "outputs": [],
      "source": [
        "xg = load_model(\"XGBClassifier(n_estimators=8000,max_depth=14,random_state=0)\")\n",
        "\n",
        "\n"
      ]
    },
    {
      "cell_type": "code",
      "execution_count": 23,
      "metadata": {
        "colab": {
          "base_uri": "https://localhost:8080/"
        },
        "id": "GS3Cw8wdJXxT",
        "outputId": "81c8eae2-d33f-418f-f41c-709fbc68a07a"
      },
      "outputs": [
        {
          "name": "stdout",
          "output_type": "stream",
          "text": [
            "[[1113  536   10  247  462]\n",
            " [ 440 6662  408  243  138]\n",
            " [  70  587 3574    6   17]\n",
            " [ 192  216   14 2897   55]\n",
            " [ 310   64    3   26 3401]]\n",
            "              precision    recall  f1-score   support\n",
            "\n",
            "           0       0.52      0.47      0.50      2368\n",
            "           1       0.83      0.84      0.84      7891\n",
            "           2       0.89      0.84      0.87      4254\n",
            "           3       0.85      0.86      0.85      3374\n",
            "           4       0.84      0.89      0.86      3804\n",
            "\n",
            "    accuracy                           0.81     21691\n",
            "   macro avg       0.78      0.78      0.78     21691\n",
            "weighted avg       0.81      0.81      0.81     21691\n",
            "\n",
            "Accurecy:  0.8135632289889816\n"
          ]
        }
      ],
      "source": [
        "\n",
        "y_pred=xg.predict(X_test)\n",
        "Accurecy_Details(y_test, y_pred)"
      ]
    },
    {
      "cell_type": "code",
      "execution_count": 25,
      "metadata": {
        "colab": {
          "base_uri": "https://localhost:8080/"
        },
        "id": "h-4uusa0LFfM",
        "outputId": "3c2b7c6e-1547-473b-aa99-5721045b384f"
      },
      "outputs": [
        {
          "name": "stdout",
          "output_type": "stream",
          "text": [
            "Total labels: 5 -> [0, 1, 2, 3, 4]\n",
            "      0     1     2     3     4\n",
            "0  1113   536    10   247   462\n",
            "1   440  6662   408   243   138\n",
            "2    70   587  3574     6    17\n",
            "3   192   216    14  2897    55\n",
            "4   310    64     3    26  3401\n",
            "\n",
            "----------------------------------------------------------------------------------------\n",
            "----------------------------------------------------------------------------------------\n",
            "\n",
            "#-- Local measures --#\n",
            "True Positives(TP): {0: 1113, 1: 6662, 2: 3574, 3: 2897, 4: 3401}\n",
            "False Positives(FP): {0: 1012, 1: 1403, 2: 435, 3: 522, 4: 672}\n",
            "True Negatives(TN): {0: 18311, 1: 12397, 2: 17002, 3: 17795, 4: 17215}\n",
            "False Negatives(FN): {0: 1255, 1: 1229, 2: 680, 3: 477, 4: 403}\n",
            "----------------------------\n",
            "Precision: {0: 0.5237647058823529, 1: 0.8260384376937384, 2: 0.8914941381890746, 3: 0.8473237788827143, 4: 0.8350110483672968}\n",
            "Recall/Sensitivity: {0: 0.4700168918918919, 1: 0.8442529463946268, 2: 0.840150446638458, 3: 0.8586247777119146, 4: 0.8940588853838065}\n",
            "Specificity: {0: 0.9476271800445065, 1: 0.8983333333333333, 2: 0.975053048116075, 3: 0.9715018834962057, 4: 0.9624308156761894}\n",
            "F1-Score: {0: 0.4954373469841976, 1: 0.8350463775382302, 2: 0.8650611158174998, 3: 0.8529368467540115, 4: 0.863526723371842}\n",
            "Accuracy: {0: 0.32928994082840235, 1: 0.7168065418549602, 2: 0.7622094263169119, 3: 0.7435831622176592, 4: 0.7598302055406613}\n",
            "\n",
            "----------------------------------------------------------------------------------------\n",
            "----------------------------------------------------------------------------------------\n",
            "\n",
            "#-- Global measures --#\n",
            "Micro-Averages: {'Precision': 0.8135632289889816, 'Recall': 0.8135632289889816, 'Specificity': 0.9533908072472455, 'F1-score': 0.8135632289889816}\n",
            "Macro-Averages: {'Precision': 0.7847264218030354, 'Recall': 0.7814207896041396, 'Specificity': 0.9509892521332619, 'F1-Score': 0.783070117141288}\n",
            "Correct predictions: 17647\n",
            "Total predictions: 21691\n",
            "Accuracy: 0.8135632289889816\n",
            "\n",
            "----------------------------------------------------------------------------------------\n",
            "----------------------------------------------------------------------------------------\n",
            "\n",
            "Accuracy (per class), with TNs: {0: 0.8954866073486699, 1: 0.8786593518048961, 2: 0.9485961919690195, 3: 0.9539440320870407, 4: 0.9504402747683371}\n",
            "Accuracy (per class), without TNs: {0: 0.32928994082840235, 1: 0.7168065418549602, 2: 0.7622094263169119, 3: 0.7435831622176592, 4: 0.7598302055406613}\n",
            "Accuracy (global), with TNs: 0.9254252915955926\n",
            "Accuracy (global), without TNs: 0.8135632289889816\n"
          ]
        }
      ],
      "source": [
        "confusion_details(y_test, y_pred)"
      ]
    },
    {
      "cell_type": "code",
      "execution_count": 26,
      "metadata": {
        "colab": {
          "base_uri": "https://localhost:8080/",
          "height": 610
        },
        "id": "DSea_bMFLnoO",
        "outputId": "97435d18-a0b5-4c15-c5f7-0a92fae30559"
      },
      "outputs": [
        {
          "data": {
            "image/png": "[encoded data removed]",
            "text/plain": [
              "<Figure size 1080x720 with 2 Axes>"
            ]
          },
          "metadata": {
            "needs_background": "light"
          },
          "output_type": "display_data"
        }
      ],
      "source": [
        "Con_Mat(y_test,y_pred)"
      ]
    },
    {
      "cell_type": "markdown",
      "metadata": {},
      "source": [
        "#GradientBoosting\n"
      ]
    },
    {
      "cell_type": "code",
      "execution_count": 31,
      "metadata": {},
      "outputs": [],
      "source": [
        "gb = load_model(\"GradientBoostingClassifier(max_depth=14, n_estimators=4500)\")\n"
      ]
    },
    {
      "cell_type": "code",
      "execution_count": 32,
      "metadata": {},
      "outputs": [
        {
          "name": "stdout",
          "output_type": "stream",
          "text": [
            "[[1108  526    7  258  469]\n",
            " [ 401 6654  428  244  164]\n",
            " [  63  615 3549    6   21]\n",
            " [ 183  229    9 2884   69]\n",
            " [ 283   71    6   22 3422]]\n",
            "              precision    recall  f1-score   support\n",
            "\n",
            "           0       0.54      0.47      0.50      2368\n",
            "           1       0.82      0.84      0.83      7891\n",
            "           2       0.89      0.83      0.86      4254\n",
            "           3       0.84      0.85      0.85      3374\n",
            "           4       0.83      0.90      0.86      3804\n",
            "\n",
            "    accuracy                           0.81     21691\n",
            "   macro avg       0.78      0.78      0.78     21691\n",
            "weighted avg       0.81      0.81      0.81     21691\n",
            "\n",
            "Accurecy:  0.8121801668894933\n"
          ]
        }
      ],
      "source": [
        "\n",
        "y_pred=gb.predict(X_test)\n",
        "Accurecy_Details(y_test, y_pred)"
      ]
    },
    {
      "cell_type": "code",
      "execution_count": 33,
      "metadata": {},
      "outputs": [
        {
          "name": "stdout",
          "output_type": "stream",
          "text": [
            "Total labels: 5 -> [0, 1, 2, 3, 4]\n",
            "      0     1     2     3     4\n",
            "0  1108   526     7   258   469\n",
            "1   401  6654   428   244   164\n",
            "2    63   615  3549     6    21\n",
            "3   183   229     9  2884    69\n",
            "4   283    71     6    22  3422\n",
            "\n",
            "----------------------------------------------------------------------------------------\n",
            "----------------------------------------------------------------------------------------\n",
            "\n",
            "#-- Local measures --#\n",
            "True Positives(TP): {0: 1108, 1: 6654, 2: 3549, 3: 2884, 4: 3422}\n",
            "False Positives(FP): {0: 930, 1: 1441, 2: 450, 3: 530, 4: 723}\n",
            "True Negatives(TN): {0: 18393, 1: 12359, 2: 16987, 3: 17787, 4: 17164}\n",
            "False Negatives(FN): {0: 1260, 1: 1237, 2: 705, 3: 490, 4: 382}\n",
            "----------------------------\n",
            "Precision: {0: 0.5436702649656526, 1: 0.8219888820259419, 2: 0.8874718679669917, 3: 0.8447568834212068, 4: 0.8255729794933655}\n",
            "Recall/Sensitivity: {0: 0.46790540540540543, 1: 0.8432391331897098, 2: 0.8342736248236954, 3: 0.8547717842323651, 4: 0.8995793901156677}\n",
            "Specificity: {0: 0.9518708275112561, 1: 0.8955797101449275, 2: 0.9741928083959397, 3: 0.9710651307528525, 4: 0.9595795829373288}\n",
            "F1-Score: {0: 0.5029505220154336, 1: 0.8324784186162891, 2: 0.8600508905852416, 3: 0.8497348261638186, 4: 0.8609888036230972}\n",
            "Accuracy: {0: 0.33596118859915103, 1: 0.7130304329189884, 2: 0.7544642857142857, 3: 0.7387295081967213, 4: 0.7559089905014358}\n",
            "\n",
            "----------------------------------------------------------------------------------------\n",
            "----------------------------------------------------------------------------------------\n",
            "\n",
            "#-- Global measures --#\n",
            "Micro-Averages: {'Precision': 0.8121801668894933, 'Recall': 0.8121801668894933, 'Specificity': 0.9530450417223734, 'F1-score': 0.8121801668894933}\n",
            "Macro-Averages: {'Precision': 0.7846921755746317, 'Recall': 0.7799538675533688, 'Specificity': 0.9504576119484609, 'F1-Score': 0.7823158469180146}\n",
            "Correct predictions: 17617\n",
            "Total predictions: 21691\n",
            "Accuracy: 0.8121801668894933\n",
            "\n",
            "----------------------------------------------------------------------------------------\n",
            "----------------------------------------------------------------------------------------\n",
            "\n",
            "Accuracy (per class), with TNs: {0: 0.8990364667373565, 1: 0.8765386565856806, 2: 0.9467521091697018, 3: 0.9529758886173989, 4: 0.9490572126688488}\n",
            "Accuracy (per class), without TNs: {0: 0.33596118859915103, 1: 0.7130304329189884, 2: 0.7544642857142857, 3: 0.7387295081967213, 4: 0.7559089905014358}\n",
            "Accuracy (global), with TNs: 0.9248720667557974\n",
            "Accuracy (global), without TNs: 0.8121801668894933\n"
          ]
        }
      ],
      "source": [
        "confusion_details(y_test, y_pred)"
      ]
    },
    {
      "cell_type": "code",
      "execution_count": 34,
      "metadata": {},
      "outputs": [
        {
          "data": {
            "image/png": "[encoded data removed]",
            "text/plain": [
              "<Figure size 1080x720 with 2 Axes>"
            ]
          },
          "metadata": {
            "needs_background": "light"
          },
          "output_type": "display_data"
        }
      ],
      "source": [
        "Con_Mat(y_test,y_pred)"
      ]
    }
  ],
  "metadata": {
    "colab": {
      "machine_shape": "hm",
      "provenance": []
    },
    "gpuClass": "premium",
    "kernelspec": {
      "display_name": "Python 3.7.4 ('base')",
      "language": "python",
      "name": "python3"
    },
    "language_info": {
      "codemirror_mode": {
        "name": "ipython",
        "version": 3
      },
      "file_extension": ".py",
      "mimetype": "text/x-python",
      "name": "python",
      "nbconvert_exporter": "python",
      "pygments_lexer": "ipython3",
      "version": "3.7.4"
    },
    "vscode": {
      "interpreter": {
        "hash": "40d3a090f54c6569ab1632332b64b2c03c39dcf918b08424e98f38b5ae0af88f"
      }
    }
  },
  "nbformat": 4,
  "nbformat_minor": 0
}
