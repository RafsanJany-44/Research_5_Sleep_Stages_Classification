{
  "nbformat": 4,
  "nbformat_minor": 0,
  "metadata": {
    "colab": {
      "provenance": [],
      "authorship_tag": "ABX9TyPSuJ1sOqOHlVyfwJdNEiyI",
      "include_colab_link": true
    },
    "kernelspec": {
      "name": "python3",
      "display_name": "Python 3"
    },
    "language_info": {
      "name": "python"
    }
  },
  "cells": [
    {
      "cell_type": "markdown",
      "metadata": {
        "id": "view-in-github",
        "colab_type": "text"
      },
      "source": [
        "<a href=\"https://colab.research.google.com/github/RafsanJany-44/Research_5_Sleep_Stages_Classification/blob/main/Handeling_Null_Values.ipynb\" target=\"_parent\"><img src=\"https://colab.research.google.com/assets/colab-badge.svg\" alt=\"Open In Colab\"/></a>"
      ]
    },
    {
      "cell_type": "code",
      "execution_count": 1,
      "metadata": {
        "colab": {
          "base_uri": "https://localhost:8080/"
        },
        "id": "NfFKzd6UWtCA",
        "outputId": "2333d3fc-08a6-4436-8e1d-68e753fec068"
      },
      "outputs": [
        {
          "output_type": "stream",
          "name": "stdout",
          "text": [
            "Mounted at /content/drive\n"
          ]
        }
      ],
      "source": [
        "from google.colab import drive\n",
        "drive.mount('/content/drive')"
      ]
    },
    {
      "cell_type": "code",
      "source": [
        "import pandas as pd\n",
        "import numpy as np\n",
        "\n",
        "primary_dataset = pd.read_csv('/content/drive/MyDrive/Machine Learning Models/5 Stage Sleep Classification/DataSet/HMC_SleepStage_BioM.csv')\n"
      ],
      "metadata": {
        "id": "LELtuCaNWz_R"
      },
      "execution_count": 3,
      "outputs": []
    },
    {
      "cell_type": "code",
      "source": [
        "dataset = primary_dataset.loc[:,primary_dataset.columns != \"Subject\"]\n",
        "dataset = dataset.loc[:,dataset.columns != \"Epoch\"]"
      ],
      "metadata": {
        "id": "n4p6QnfIW3PF"
      },
      "execution_count": 5,
      "outputs": []
    },
    {
      "cell_type": "code",
      "source": [
        "columns_name = list(dataset.columns)\n",
        "columns_name.remove(\"Sleep_Stage\")"
      ],
      "metadata": {
        "id": "ziy7pA_oW3JX"
      },
      "execution_count": 6,
      "outputs": []
    },
    {
      "cell_type": "code",
      "source": [
        "dataset.shape[0]"
      ],
      "metadata": {
        "colab": {
          "base_uri": "https://localhost:8080/"
        },
        "id": "L45zWmmSGaPb",
        "outputId": "184138ac-b546-4ff6-ba90-424dfe037296"
      },
      "execution_count": 7,
      "outputs": [
        {
          "output_type": "execute_result",
          "data": {
            "text/plain": [
              "108451"
            ]
          },
          "metadata": {},
          "execution_count": 7
        }
      ]
    },
    {
      "cell_type": "code",
      "source": [
        "d = Search_Null(dataset)"
      ],
      "metadata": {
        "id": "IlFcELbY7bJV"
      },
      "execution_count": 15,
      "outputs": []
    },
    {
      "cell_type": "markdown",
      "source": [
        "#Searching for null value"
      ],
      "metadata": {
        "id": "OOTrAsioFzd0"
      }
    },
    {
      "cell_type": "code",
      "source": [
        "\n",
        "def Search_Null(dataset):\n",
        "  dic={}\n",
        "  for col in list(dataset.columns):\n",
        "    rows = []\n",
        "    flage = 0\n",
        "    for row in range(dataset.shape[0]):\n",
        "      if str(dataset[col][row]) == \"nan\":\n",
        "        rows.append(row)\n",
        "        flage = 1\n",
        "    if flage ==1:\n",
        "      dic[col] = rows\n",
        "  \n",
        "  return dic\n",
        "        \n",
        "\n"
      ],
      "metadata": {
        "id": "8O5IhmW6gFTl"
      },
      "execution_count": 14,
      "outputs": []
    },
    {
      "cell_type": "markdown",
      "source": [
        "#With Default Function"
      ],
      "metadata": {
        "id": "oZUdnsP-FvVe"
      }
    },
    {
      "cell_type": "code",
      "source": [
        "dataset_2 = dataset.dropna().reset_index()\n",
        "dataset_2.pop(\"index\")                    # removing the extra columns"
      ],
      "metadata": {
        "id": "PpjycEBYjjLl"
      },
      "execution_count": null,
      "outputs": []
    },
    {
      "cell_type": "code",
      "source": [
        "dataset.isna().any()"
      ],
      "metadata": {
        "colab": {
          "base_uri": "https://localhost:8080/"
        },
        "id": "Ls7nUGjjtRVy",
        "outputId": "aed85e7b-f0bf-4c44-96e8-0e7bd3683439"
      },
      "execution_count": 27,
      "outputs": [
        {
          "output_type": "execute_result",
          "data": {
            "text/plain": [
              "Sleep_Stage              False\n",
              "MeanP_Alpha_F4           False\n",
              "MedianF_Alpha_F4         False\n",
              "MeanF_Alpha_F4           False\n",
              "SpectralEdge_Alpha_F4    False\n",
              "                         ...  \n",
              "RelativePower_Alpha      False\n",
              "RelativePower_Beta       False\n",
              "RelativePower_Theta      False\n",
              "RelativePower_Delta      False\n",
              "RelativePower_Gamma      False\n",
              "Length: 102, dtype: bool"
            ]
          },
          "metadata": {},
          "execution_count": 27
        }
      ]
    },
    {
      "cell_type": "markdown",
      "source": [
        "###how=’any’ : drop if there is any missing value\n",
        "how=’all’ : drop if all values are missing\n"
      ],
      "metadata": {
        "id": "V_NUSRmJ47jF"
      }
    },
    {
      "cell_type": "code",
      "source": [
        "dataset.dropna(axis = 0,how='any', inplace = True)"
      ],
      "metadata": {
        "id": "zJRzqODIzN_Z"
      },
      "execution_count": 26,
      "outputs": []
    },
    {
      "cell_type": "code",
      "source": [
        "df=dataset"
      ],
      "metadata": {
        "id": "Mg_oSs3u9Uae"
      },
      "execution_count": 49,
      "outputs": []
    },
    {
      "cell_type": "code",
      "source": [
        "dataset.to_csv(\"Hello_world.csv\")\n"
      ],
      "metadata": {
        "id": "EU6Gy_SltTcP"
      },
      "execution_count": 50,
      "outputs": []
    },
    {
      "cell_type": "code",
      "source": [
        "\n",
        "df = pd.read_csv(\"Hello_world.csv\")"
      ],
      "metadata": {
        "id": "g2IEldC16oH1"
      },
      "execution_count": 47,
      "outputs": []
    },
    {
      "cell_type": "code",
      "source": [
        "dataset.info()"
      ],
      "metadata": {
        "colab": {
          "base_uri": "https://localhost:8080/"
        },
        "id": "EtElEh9R63zw",
        "outputId": "5214b0d2-1c14-4bda-f5e3-3295d896ea56"
      },
      "execution_count": 52,
      "outputs": [
        {
          "output_type": "stream",
          "name": "stdout",
          "text": [
            "<class 'pandas.core.frame.DataFrame'>\n",
            "Int64Index: 106998 entries, 0 to 108450\n",
            "Columns: 102 entries, Sleep_Stage to RelativePower_Gamma\n",
            "dtypes: float64(101), object(1)\n",
            "memory usage: 88.1+ MB\n"
          ]
        }
      ]
    },
    {
      "cell_type": "code",
      "source": [
        "dataset.shape"
      ],
      "metadata": {
        "colab": {
          "base_uri": "https://localhost:8080/"
        },
        "id": "h2PyKOHB-eUP",
        "outputId": "7fba125d-55fe-4057-dc86-e4ebe0b016a9"
      },
      "execution_count": 53,
      "outputs": [
        {
          "output_type": "execute_result",
          "data": {
            "text/plain": [
              "(106998, 102)"
            ]
          },
          "metadata": {},
          "execution_count": 53
        }
      ]
    },
    {
      "cell_type": "code",
      "source": [
        "\n",
        "try:\n",
        "  type(dataset[\"RelativePower_Theta\"][954])\n",
        "except Exception as e: \n",
        "  print(e)"
      ],
      "metadata": {
        "colab": {
          "base_uri": "https://localhost:8080/"
        },
        "id": "i2uBVvH55J9A",
        "outputId": "ba8ef3d6-5931-4faf-ff1a-3ad027640ad5"
      },
      "execution_count": 43,
      "outputs": [
        {
          "output_type": "stream",
          "name": "stdout",
          "text": [
            "954\n"
          ]
        }
      ]
    },
    {
      "cell_type": "code",
      "source": [
        "dataset.shape"
      ],
      "metadata": {
        "colab": {
          "base_uri": "https://localhost:8080/"
        },
        "id": "_el7tI3reOXQ",
        "outputId": "dd25eb29-5902-4fef-aaac-76a75bc57885"
      },
      "execution_count": 31,
      "outputs": [
        {
          "output_type": "execute_result",
          "data": {
            "text/plain": [
              "(106998, 102)"
            ]
          },
          "metadata": {},
          "execution_count": 31
        }
      ]
    },
    {
      "cell_type": "code",
      "source": [],
      "metadata": {
        "id": "U9TvS_eDfCHT"
      },
      "execution_count": 10,
      "outputs": []
    }
  ]
}